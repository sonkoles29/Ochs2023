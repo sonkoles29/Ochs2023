{
 "cells": [
  {
   "cell_type": "code",
   "execution_count": 2,
   "id": "29e9a736-eae2-4c49-972f-bbafaab1148b",
   "metadata": {},
   "outputs": [],
   "source": [
    "import os\n",
    "import numpy as np\n",
    "import pandas as pd\n",
    "import seaborn as sbn\n",
    "import matplotlib as mpl\n",
    "mpl.use(\"agg\")\n",
    "import matplotlib.pyplot as plt\n",
    "import bioframe as bf\n",
    "%matplotlib inline\n",
    "import seaborn as sns\n",
    "import bbi"
   ]
  },
  {
   "cell_type": "code",
   "execution_count": 22,
   "id": "7a63a5d4-374c-4b13-a482-aec70ea57e95",
   "metadata": {},
   "outputs": [
    {
     "data": {
      "text/plain": [
       "'0.3.2'"
      ]
     },
     "execution_count": 22,
     "metadata": {},
     "output_type": "execute_result"
    }
   ],
   "source": [
    "bbi.__version__"
   ]
  },
  {
   "cell_type": "code",
   "execution_count": 3,
   "id": "5a30ad87-692c-43d2-b502-c2f58dd242fa",
   "metadata": {},
   "outputs": [],
   "source": [
    "mpl.rcParams.update({'pdf.fonttype': 42,\n",
    "                     'ps.fonttype': 42,\n",
    "                     'xtick.labelsize': 14,\n",
    "                     'ytick.labelsize': 14, \n",
    "                     'axes.labelsize':14,\n",
    "                     'font.size': 14})"
   ]
  },
  {
   "cell_type": "code",
   "execution_count": 4,
   "id": "56ed6e41-b19b-4d21-b5b0-bf80691f3aec",
   "metadata": {},
   "outputs": [],
   "source": [
    "def calculate_signal_per_peak(\n",
    "    region,\n",
    "    chip_path,\n",
    "    center):\n",
    "    # Calculates mean ChIP-seq signal within one peak  \n",
    "    chroms = region.chrom\n",
    "    starts = region[center] - 300\n",
    "    ends = region[center] + 300\n",
    "    stack = bbi.stackup(chip_path, chroms, starts, ends, bins=100) \n",
    "    return np.nanmean(stack, axis=1)"
   ]
  },
  {
   "cell_type": "code",
   "execution_count": 5,
   "id": "1bc8066d-c068-43d1-8adc-d963bd72f4eb",
   "metadata": {},
   "outputs": [],
   "source": [
    "resDir = \"/groups/gerlich/experiments/Experiments_005700/005759/data/selections/Sororin_vs_CTCF/\""
   ]
  },
  {
   "cell_type": "markdown",
   "id": "2815645b-04a0-4512-9c91-59b91056dfbe",
   "metadata": {},
   "source": [
    "## Upload peaks"
   ]
  },
  {
   "cell_type": "code",
   "execution_count": 14,
   "id": "522b43d3-1e1d-4bc6-a067-647ab7aa99c9",
   "metadata": {},
   "outputs": [
    {
     "data": {
      "text/html": [
       "<div>\n",
       "<style scoped>\n",
       "    .dataframe tbody tr th:only-of-type {\n",
       "        vertical-align: middle;\n",
       "    }\n",
       "\n",
       "    .dataframe tbody tr th {\n",
       "        vertical-align: top;\n",
       "    }\n",
       "\n",
       "    .dataframe thead th {\n",
       "        text-align: right;\n",
       "    }\n",
       "</style>\n",
       "<table border=\"1\" class=\"dataframe\">\n",
       "  <thead>\n",
       "    <tr style=\"text-align: right;\">\n",
       "      <th></th>\n",
       "      <th>chrom</th>\n",
       "      <th>start</th>\n",
       "      <th>end</th>\n",
       "      <th>length</th>\n",
       "      <th>mid</th>\n",
       "    </tr>\n",
       "  </thead>\n",
       "  <tbody>\n",
       "    <tr>\n",
       "      <th>0</th>\n",
       "      <td>chr1</td>\n",
       "      <td>10936</td>\n",
       "      <td>11845</td>\n",
       "      <td>909</td>\n",
       "      <td>11390</td>\n",
       "    </tr>\n",
       "    <tr>\n",
       "      <th>1</th>\n",
       "      <td>chr1</td>\n",
       "      <td>15496</td>\n",
       "      <td>15732</td>\n",
       "      <td>236</td>\n",
       "      <td>15614</td>\n",
       "    </tr>\n",
       "    <tr>\n",
       "      <th>2</th>\n",
       "      <td>chr1</td>\n",
       "      <td>90977</td>\n",
       "      <td>91957</td>\n",
       "      <td>980</td>\n",
       "      <td>91467</td>\n",
       "    </tr>\n",
       "    <tr>\n",
       "      <th>3</th>\n",
       "      <td>chr1</td>\n",
       "      <td>104568</td>\n",
       "      <td>105527</td>\n",
       "      <td>959</td>\n",
       "      <td>105047</td>\n",
       "    </tr>\n",
       "    <tr>\n",
       "      <th>4</th>\n",
       "      <td>chr1</td>\n",
       "      <td>138548</td>\n",
       "      <td>139623</td>\n",
       "      <td>1075</td>\n",
       "      <td>139085</td>\n",
       "    </tr>\n",
       "    <tr>\n",
       "      <th>...</th>\n",
       "      <td>...</td>\n",
       "      <td>...</td>\n",
       "      <td>...</td>\n",
       "      <td>...</td>\n",
       "      <td>...</td>\n",
       "    </tr>\n",
       "    <tr>\n",
       "      <th>34786</th>\n",
       "      <td>chrX</td>\n",
       "      <td>154376937</td>\n",
       "      <td>154377863</td>\n",
       "      <td>926</td>\n",
       "      <td>154377400</td>\n",
       "    </tr>\n",
       "    <tr>\n",
       "      <th>34787</th>\n",
       "      <td>chrX</td>\n",
       "      <td>154891956</td>\n",
       "      <td>154892607</td>\n",
       "      <td>651</td>\n",
       "      <td>154892281</td>\n",
       "    </tr>\n",
       "    <tr>\n",
       "      <th>34788</th>\n",
       "      <td>chrX</td>\n",
       "      <td>155049325</td>\n",
       "      <td>155050443</td>\n",
       "      <td>1118</td>\n",
       "      <td>155049884</td>\n",
       "    </tr>\n",
       "    <tr>\n",
       "      <th>34789</th>\n",
       "      <td>chrX</td>\n",
       "      <td>155196405</td>\n",
       "      <td>155197156</td>\n",
       "      <td>751</td>\n",
       "      <td>155196780</td>\n",
       "    </tr>\n",
       "    <tr>\n",
       "      <th>34790</th>\n",
       "      <td>chrX</td>\n",
       "      <td>155257859</td>\n",
       "      <td>155258841</td>\n",
       "      <td>982</td>\n",
       "      <td>155258350</td>\n",
       "    </tr>\n",
       "  </tbody>\n",
       "</table>\n",
       "<p>34791 rows × 5 columns</p>\n",
       "</div>"
      ],
      "text/plain": [
       "      chrom      start        end  length        mid\n",
       "0      chr1      10936      11845     909      11390\n",
       "1      chr1      15496      15732     236      15614\n",
       "2      chr1      90977      91957     980      91467\n",
       "3      chr1     104568     105527     959     105047\n",
       "4      chr1     138548     139623    1075     139085\n",
       "...     ...        ...        ...     ...        ...\n",
       "34786  chrX  154376937  154377863     926  154377400\n",
       "34787  chrX  154891956  154892607     651  154892281\n",
       "34788  chrX  155049325  155050443    1118  155049884\n",
       "34789  chrX  155196405  155197156     751  155196780\n",
       "34790  chrX  155257859  155258841     982  155258350\n",
       "\n",
       "[34791 rows x 5 columns]"
      ]
     },
     "execution_count": 14,
     "metadata": {},
     "output_type": "execute_result"
    }
   ],
   "source": [
    "# Upload SMC3 ChIP-seq peaks \n",
    "smc3 = pd.read_csv(\"/groups/gerlich/experiments/Experiments_005000/005019/data/Smc3_clean.bed\", sep = \"\\t\")\n",
    "smc3 = smc3.iloc [:,:3]\n",
    "smc3.columns = ['chrom', 'start', 'end']\n",
    "# Compute the length of the SMC3 peak \n",
    "smc3['length'] = smc3.end - smc3.start\n",
    "# Discard peaks that mapped to ChrY \n",
    "smc3 = smc3 [smc3.chrom != 'chrY']\n",
    "#smc3 = smc3.drop_duplicates()\n",
    "smc3['mid'] = (smc3.end + smc3.start)//2\n",
    "smc3 "
   ]
  },
  {
   "cell_type": "markdown",
   "id": "ad38f349-ebf4-49d0-956e-2d97831b7ef5",
   "metadata": {},
   "source": [
    "## Upload ChIP-seq tracks "
   ]
  },
  {
   "cell_type": "code",
   "execution_count": 15,
   "id": "d45e1049-8e75-4f05-8d8c-2a87ec99e209",
   "metadata": {},
   "outputs": [],
   "source": [
    "chipMap = {\"SMC3\": \"/groups/gerlich/experiments/Experiments_004900/004983/data/chip_seq_input_norm/SMC3_merged_input_norm_log2.bw\",\n",
    "            \"Sororin\": \"/groups/gerlich/experiments/Experiments_004900/004983/data/chip_seq_input_norm/Sororin_merged_input_norm_log2.bw\"}"
   ]
  },
  {
   "cell_type": "markdown",
   "id": "021f6bb9-84dc-49b0-a3c1-f45181b1d14e",
   "metadata": {},
   "source": [
    "## Calcluate ChIP-seq signal  "
   ]
  },
  {
   "cell_type": "code",
   "execution_count": 16,
   "id": "a8c1ccd5-581b-47cd-bbf8-42967674dca7",
   "metadata": {},
   "outputs": [],
   "source": [
    "for condition in ['SMC3', 'Sororin']: \n",
    "    peak_chip_value = calculate_signal_per_peak (smc3, chipMap[condition], 'mid')\n",
    "    smc3 [condition] = peak_chip_value"
   ]
  },
  {
   "cell_type": "code",
   "execution_count": 17,
   "id": "79a08e2f-4120-4411-aefe-a1c5cae9799a",
   "metadata": {},
   "outputs": [],
   "source": [
    "smc3.replace([np.inf, -np.inf], np.nan, inplace=True)\n",
    "smc3.dropna(axis = 0, inplace = True)"
   ]
  },
  {
   "cell_type": "markdown",
   "id": "992864ed-1bd5-4a87-8204-52ba548d0bf6",
   "metadata": {},
   "source": [
    "## Plot the scatter plots for signal distribution "
   ]
  },
  {
   "cell_type": "code",
   "execution_count": 18,
   "id": "85e2cd9d-aa7c-42da-9ae2-6e42187445bf",
   "metadata": {},
   "outputs": [],
   "source": [
    "thre = 0.1"
   ]
  },
  {
   "cell_type": "code",
   "execution_count": 19,
   "id": "93a7eb71-edd2-4599-8ba2-3eb7e9046b5f",
   "metadata": {},
   "outputs": [],
   "source": [
    "import mpl_scatter_density # adds projection='scatter_density'\n",
    "from matplotlib.colors import LinearSegmentedColormap\n",
    "\n",
    "# \"Viridis-like\" colormap with white background\n",
    "white_viridis = LinearSegmentedColormap.from_list('white_viridis', [\n",
    "    (0, '#ffffff'),\n",
    "    (1e-20, '#440053'),\n",
    "    (0.2, '#404388'),\n",
    "    (0.4, '#2a788e'),\n",
    "    (0.6, '#21a784'),\n",
    "    (0.8, '#78d151'),\n",
    "    (1, '#fde624'),\n",
    "], N=256)\n",
    "\n",
    "def using_mpl_scatter_density(fig, x, y):\n",
    "    ax = fig.add_subplot(1, 1, 1, projection='scatter_density')\n",
    "    density = ax.scatter_density(x, y, cmap=white_viridis)\n",
    "    fig.colorbar(density, label='Number of points per pixel')"
   ]
  },
  {
   "cell_type": "code",
   "execution_count": 20,
   "id": "fcaeca74-97da-47ee-b757-ace278bb95d4",
   "metadata": {},
   "outputs": [
    {
     "name": "stderr",
     "output_type": "stream",
     "text": [
      "/users/sofia.kolesnikova/.local/lib/python3.9/site-packages/mpl_scatter_density/generic_density_artist.py:77: RuntimeWarning: All-NaN slice encountered\n",
      "  vmin = self._density_vmin(array)\n",
      "/users/sofia.kolesnikova/.local/lib/python3.9/site-packages/mpl_scatter_density/generic_density_artist.py:82: RuntimeWarning: All-NaN slice encountered\n",
      "  vmax = self._density_vmax(array)\n"
     ]
    },
    {
     "data": {
      "image/png": "[encoded data removed]",
      "text/plain": [
       "<Figure size 432x432 with 2 Axes>"
      ]
     },
     "metadata": {
      "needs_background": "light"
     },
     "output_type": "display_data"
    }
   ],
   "source": [
    "f = plt.figure(figsize=(6,6))\n",
    "using_mpl_scatter_density(f, smc3['SMC3'],smc3['Sororin'])\n",
    "plt.xlabel('Smc3 CPM')\n",
    "plt.ylabel('Sororin CPM')\n",
    "plt.title('Smc3 vs Sororin\\n')\n",
    "plt.gca().set(\n",
    "    xlim=(-0.15,2.5),\n",
    "    ylim=(-0.1,1),\n",
    "    aspect=1.0\n",
    ")\n",
    "plt.axhline(thre, color = 'black')\n",
    "#plt.axvline(0.3, color = 'black')\n",
    "plt.show();"
   ]
  },
  {
   "cell_type": "markdown",
   "id": "3c1e5c3c-127d-4edd-982f-613abaf4f723",
   "metadata": {},
   "source": [
    "## Define two classes of peaks "
   ]
  },
  {
   "cell_type": "code",
   "execution_count": 21,
   "id": "eed6a967-6215-4cf4-97dd-7a9e2f810a96",
   "metadata": {},
   "outputs": [],
   "source": [
    "smc3_wo_sororin = smc3[(smc3.Sororin < thre)]\n",
    "smc3_w_sororin = smc3[(smc3.Sororin > thre)]"
   ]
  },
  {
   "cell_type": "code",
   "execution_count": 22,
   "id": "4a29af08-cd2f-417b-9ed1-894714fc8c8d",
   "metadata": {},
   "outputs": [
    {
     "name": "stdout",
     "output_type": "stream",
     "text": [
      "Number of SMC3 w Sororin: 20943\n",
      "Number of SMC3 wo Sororin: 13848\n"
     ]
    }
   ],
   "source": [
    "print (f\"Number of SMC3 w Sororin: {len(smc3_w_sororin)}\")\n",
    "print (f\"Number of SMC3 wo Sororin: {len(smc3_wo_sororin)}\")"
   ]
  },
  {
   "cell_type": "code",
   "execution_count": 23,
   "id": "00b44086-1327-43c6-a1e9-dca4617a76a0",
   "metadata": {},
   "outputs": [],
   "source": [
    "resDir = \"/groups/gerlich/experiments/Experiments_005700/005784/data/signal_peak_classification/\"\n",
    "smc3_wo_sororin.to_csv(os.path.join(resDir, \"smc3_wo_sororin.bed\"), sep = '\\t', header = True, index = None)\n",
    "smc3_w_sororin.to_csv(os.path.join(resDir, \"smc3_w_sororin.bed\"), sep = '\\t', header = True, index = None)"
   ]
  }
 ],
 "metadata": {
  "kernelspec": {
   "display_name": "Python 3 (ipykernel)",
   "language": "python",
   "name": "python3"
  },
  "language_info": {
   "codemirror_mode": {
    "name": "ipython",
    "version": 3
   },
   "file_extension": ".py",
   "mimetype": "text/x-python",
   "name": "python",
   "nbconvert_exporter": "python",
   "pygments_lexer": "ipython3",
   "version": "3.9.9"
  }
 },
 "nbformat": 4,
 "nbformat_minor": 5
}
