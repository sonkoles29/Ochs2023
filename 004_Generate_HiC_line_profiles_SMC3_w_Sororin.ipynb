{
 "cells": [
  {
   "cell_type": "code",
   "execution_count": 1,
   "id": "sorted-stake",
   "metadata": {},
   "outputs": [],
   "source": [
    "import os\n",
    "import numpy as np\n",
    "import pandas as pd\n",
    "import warnings\n",
    "import matplotlib as mpl\n",
    "import matplotlib.pyplot as plt\n",
    "import matplotlib.colors as cl\n",
    "from typing import Tuple\n",
    "import seaborn as sns\n",
    "import bioframe as bf\n",
    "import cooler\n",
    "#import cooltools\n",
    "import bbi"
   ]
  },
  {
   "cell_type": "code",
   "execution_count": 2,
   "id": "375b2a85-0ad8-4326-9f78-431ded6d7b09",
   "metadata": {},
   "outputs": [],
   "source": [
    "# ignore log10(0) warnings\n",
    "warnings.simplefilter(\"ignore\", RuntimeWarning)"
   ]
  },
  {
   "cell_type": "code",
   "execution_count": 3,
   "id": "f57c456b-a406-4390-915d-b9028cb256c2",
   "metadata": {},
   "outputs": [],
   "source": [
    "import cooltools.api.snipping\n",
    "#!cat {cooltools.api.snipping.__file__} | tail"
   ]
  },
  {
   "cell_type": "code",
   "execution_count": 4,
   "id": "43e213ac-2a16-4607-8264-0a2a8c640c73",
   "metadata": {},
   "outputs": [],
   "source": [
    "def slidingDiamond(array: np.ndarray, sideLen: int = 6, centerX: bool = True) -> Tuple[np.ndarray, np.ndarray]:\n",
    "    \"\"\"Will slide a dimaond of side length 'sideLen'\n",
    "    down the diagonal of the passed array and return\n",
    "    the average values for each position and\n",
    "    the relative position of each value with respect\n",
    "    to the center of the array (in Bin units)\"\"\"\n",
    "    # initialize accumulators for diamond value and x-position\n",
    "    diamondAccumulator = list()\n",
    "    binAccumulator = list()\n",
    "    if sideLen % 2 == 0:\n",
    "        halfWindow = sideLen\n",
    "        for i in range(0, (array.shape[0] - halfWindow + 1)):\n",
    "            # extract diamond\n",
    "            diamondArray = array[i: (i+halfWindow), i:(i+halfWindow)]\n",
    "            # set inf to nan for calculation of mean\n",
    "            diamondArray[np.isinf(diamondArray)] = np.nan\n",
    "            diamondAccumulator.append(np.nanmean(diamondArray))\n",
    "            # append x-value for this particular bin\n",
    "            binAccumulator.append(np.median(range(i, (i+halfWindow),)))\n",
    "    else:\n",
    "        halfWindow = sideLen//2\n",
    "        for i in range(halfWindow, (array.shape[0] - halfWindow)):\n",
    "            # extract diamond\n",
    "            diamondArray = array[i-halfWindow: (i+halfWindow) + 1, i-halfWindow:(i+halfWindow) + 1]\n",
    "            # set inf to nan for calculation of mean\n",
    "            diamondArray[np.isinf(diamondArray)] = np.nan\n",
    "            diamondAccumulator.append(np.nanmean(diamondArray))\n",
    "            # append x-value for this particular bin\n",
    "            binAccumulator.append(np.median(range(i - halfWindow, (i+halfWindow) + 1,)))\n",
    "    if centerX:\n",
    "        xOut = (np.array(binAccumulator - np.median(binAccumulator)))\n",
    "    else:\n",
    "        xOut = np.array(binAccumulator)\n",
    "    return (xOut, np.array(diamondAccumulator))"
   ]
  },
  {
   "cell_type": "markdown",
   "id": "d8398e6e-e199-4e8d-8006-842c79c88aab",
   "metadata": {},
   "source": [
    "## Set plotting parameters"
   ]
  },
  {
   "cell_type": "code",
   "execution_count": 5,
   "id": "4d067c28-7674-4d23-82c4-c44f9e8c8b38",
   "metadata": {},
   "outputs": [],
   "source": [
    "mpl.rcParams.update({'pdf.fonttype': 42,\n",
    "                     'ps.fonttype': 42,\n",
    "                     'xtick.labelsize': 22,\n",
    "                     'ytick.labelsize': 22,\n",
    "                     'axes.labelsize':22,\n",
    "                     'font.size': 22})"
   ]
  },
  {
   "cell_type": "markdown",
   "id": "01305908-bb55-4f51-a067-d7ccf02100a5",
   "metadata": {},
   "source": [
    "## Get chromosome arms"
   ]
  },
  {
   "cell_type": "code",
   "execution_count": 6,
   "id": "dec11ea8-abcf-4a13-9975-9f460eebad32",
   "metadata": {},
   "outputs": [],
   "source": [
    "hg19_chromsizes = bf.fetch_chromsizes('hg19')\n",
    "hg19_cens = bf.fetch_centromeres('hg19')\n",
    "hg19_arms = bf.make_chromarms(hg19_chromsizes, hg19_cens)"
   ]
  },
  {
   "cell_type": "markdown",
   "id": "88c193a0-7b19-4dd3-b283-888099af477d",
   "metadata": {},
   "source": [
    "## Upload cis and trans scsHi-C cooler files"
   ]
  },
  {
   "cell_type": "code",
   "execution_count": 7,
   "id": "designing-potter",
   "metadata": {},
   "outputs": [],
   "source": [
    "# Define the window of interest (one-sided)\n",
    "flank = 500000\n",
    "\n",
    "# Define the resolution of the Hi-C data \n",
    "resolution = 10000"
   ]
  },
  {
   "cell_type": "code",
   "execution_count": 8,
   "id": "dc0dc13f-7df8-464f-b8f5-c25a01d51ab4",
   "metadata": {},
   "outputs": [],
   "source": [
    "perturbation = 'WT'\n",
    "\n",
    "# Load scsHi-C data based on the variable specified above (flank and resolution)\n",
    "clrs = {rType:\n",
    "        cooler.Cooler(\n",
    "            f'/groups/gerlich/experiments/Experiments_004800/004812/Sequencing_data/Pooled_FC_1_2_3_4/cooler/G2.fc_1_2_3_4.wOldG2.{rType}.1000.mcool::/resolutions/{resolution}')\n",
    "        for rType in [\"cis\", \"trans\"]\n",
    "        }"
   ]
  },
  {
   "cell_type": "markdown",
   "id": "ffdc03ee-6847-480a-ac14-f333b45de0b4",
   "metadata": {},
   "source": [
    "## Fix the sorting of the hg_19 arms to match coolers "
   ]
  },
  {
   "cell_type": "code",
   "execution_count": 9,
   "id": "d3e3c6ad-14e3-42ef-bde8-dac16723d5fd",
   "metadata": {},
   "outputs": [],
   "source": [
    "hg19_arms.chrom = hg19_arms.chrom.astype(\"category\")\n",
    "hg19_arms.chrom = hg19_arms.chrom.cat.set_categories(clrs[\"trans\"].chromnames)\n",
    "hg19_arms = hg19_arms.sort_values([\"chrom\",\"start\"])\n",
    "hg19_arms.reset_index(inplace = True, drop = True)"
   ]
  },
  {
   "cell_type": "markdown",
   "id": "da53fdb0-6c13-48fb-ac2d-e6684f84acf6",
   "metadata": {},
   "source": [
    "## Calculate expected Hi-C values"
   ]
  },
  {
   "cell_type": "code",
   "execution_count": 10,
   "id": "450fbebc-14b7-410a-92b4-8f5a0749cb7e",
   "metadata": {},
   "outputs": [],
   "source": [
    "# Calculate expected values \n",
    "expClrs = {interType:\n",
    "       cooltools.expected_cis (clrs[interType], view_df=hg19_arms, smooth = True, aggregate_smoothed=True, nproc=2, chunksize=1_000_000)\n",
    "       for interType in [\"cis\", \"trans\"]\n",
    "      }"
   ]
  },
  {
   "cell_type": "markdown",
   "id": "atmospheric-calgary",
   "metadata": {},
   "source": [
    "## Upload SMC3 with Sororin peaks"
   ]
  },
  {
   "cell_type": "code",
   "execution_count": 11,
   "id": "tamil-conducting",
   "metadata": {},
   "outputs": [
    {
     "data": {
      "text/html": [
       "<div>\n",
       "<style scoped>\n",
       "    .dataframe tbody tr th:only-of-type {\n",
       "        vertical-align: middle;\n",
       "    }\n",
       "\n",
       "    .dataframe tbody tr th {\n",
       "        vertical-align: top;\n",
       "    }\n",
       "\n",
       "    .dataframe thead th {\n",
       "        text-align: right;\n",
       "    }\n",
       "</style>\n",
       "<table border=\"1\" class=\"dataframe\">\n",
       "  <thead>\n",
       "    <tr style=\"text-align: right;\">\n",
       "      <th></th>\n",
       "      <th>chrom</th>\n",
       "      <th>start</th>\n",
       "      <th>end</th>\n",
       "      <th>length</th>\n",
       "      <th>mid</th>\n",
       "      <th>SMC3</th>\n",
       "      <th>Sororin</th>\n",
       "    </tr>\n",
       "  </thead>\n",
       "  <tbody>\n",
       "    <tr>\n",
       "      <th>0</th>\n",
       "      <td>chr1</td>\n",
       "      <td>793102</td>\n",
       "      <td>793758</td>\n",
       "      <td>656</td>\n",
       "      <td>793430</td>\n",
       "      <td>0.166118</td>\n",
       "      <td>0.090913</td>\n",
       "    </tr>\n",
       "    <tr>\n",
       "      <th>1</th>\n",
       "      <td>chr1</td>\n",
       "      <td>805255</td>\n",
       "      <td>805437</td>\n",
       "      <td>182</td>\n",
       "      <td>805346</td>\n",
       "      <td>0.165794</td>\n",
       "      <td>0.064613</td>\n",
       "    </tr>\n",
       "    <tr>\n",
       "      <th>2</th>\n",
       "      <td>chr1</td>\n",
       "      <td>824997</td>\n",
       "      <td>825153</td>\n",
       "      <td>156</td>\n",
       "      <td>825075</td>\n",
       "      <td>0.001243</td>\n",
       "      <td>0.032140</td>\n",
       "    </tr>\n",
       "    <tr>\n",
       "      <th>3</th>\n",
       "      <td>chr1</td>\n",
       "      <td>873361</td>\n",
       "      <td>874093</td>\n",
       "      <td>732</td>\n",
       "      <td>873727</td>\n",
       "      <td>0.213029</td>\n",
       "      <td>0.020669</td>\n",
       "    </tr>\n",
       "    <tr>\n",
       "      <th>4</th>\n",
       "      <td>chr1</td>\n",
       "      <td>950664</td>\n",
       "      <td>951140</td>\n",
       "      <td>476</td>\n",
       "      <td>950902</td>\n",
       "      <td>0.272368</td>\n",
       "      <td>0.076408</td>\n",
       "    </tr>\n",
       "    <tr>\n",
       "      <th>...</th>\n",
       "      <td>...</td>\n",
       "      <td>...</td>\n",
       "      <td>...</td>\n",
       "      <td>...</td>\n",
       "      <td>...</td>\n",
       "      <td>...</td>\n",
       "      <td>...</td>\n",
       "    </tr>\n",
       "    <tr>\n",
       "      <th>13843</th>\n",
       "      <td>chrX</td>\n",
       "      <td>154215355</td>\n",
       "      <td>154216046</td>\n",
       "      <td>691</td>\n",
       "      <td>154215700</td>\n",
       "      <td>0.124045</td>\n",
       "      <td>-0.000317</td>\n",
       "    </tr>\n",
       "    <tr>\n",
       "      <th>13844</th>\n",
       "      <td>chrX</td>\n",
       "      <td>154277189</td>\n",
       "      <td>154277846</td>\n",
       "      <td>657</td>\n",
       "      <td>154277517</td>\n",
       "      <td>0.230675</td>\n",
       "      <td>0.042113</td>\n",
       "    </tr>\n",
       "    <tr>\n",
       "      <th>13845</th>\n",
       "      <td>chrX</td>\n",
       "      <td>154285222</td>\n",
       "      <td>154286364</td>\n",
       "      <td>1142</td>\n",
       "      <td>154285793</td>\n",
       "      <td>0.470423</td>\n",
       "      <td>0.079979</td>\n",
       "    </tr>\n",
       "    <tr>\n",
       "      <th>13846</th>\n",
       "      <td>chrX</td>\n",
       "      <td>154314458</td>\n",
       "      <td>154315341</td>\n",
       "      <td>883</td>\n",
       "      <td>154314899</td>\n",
       "      <td>0.332665</td>\n",
       "      <td>-0.029144</td>\n",
       "    </tr>\n",
       "    <tr>\n",
       "      <th>13847</th>\n",
       "      <td>chrX</td>\n",
       "      <td>154891956</td>\n",
       "      <td>154892607</td>\n",
       "      <td>651</td>\n",
       "      <td>154892281</td>\n",
       "      <td>0.171869</td>\n",
       "      <td>0.045216</td>\n",
       "    </tr>\n",
       "  </tbody>\n",
       "</table>\n",
       "<p>13848 rows × 7 columns</p>\n",
       "</div>"
      ],
      "text/plain": [
       "      chrom      start        end  length        mid      SMC3   Sororin\n",
       "0      chr1     793102     793758     656     793430  0.166118  0.090913\n",
       "1      chr1     805255     805437     182     805346  0.165794  0.064613\n",
       "2      chr1     824997     825153     156     825075  0.001243  0.032140\n",
       "3      chr1     873361     874093     732     873727  0.213029  0.020669\n",
       "4      chr1     950664     951140     476     950902  0.272368  0.076408\n",
       "...     ...        ...        ...     ...        ...       ...       ...\n",
       "13843  chrX  154215355  154216046     691  154215700  0.124045 -0.000317\n",
       "13844  chrX  154277189  154277846     657  154277517  0.230675  0.042113\n",
       "13845  chrX  154285222  154286364    1142  154285793  0.470423  0.079979\n",
       "13846  chrX  154314458  154315341     883  154314899  0.332665 -0.029144\n",
       "13847  chrX  154891956  154892607     651  154892281  0.171869  0.045216\n",
       "\n",
       "[13848 rows x 7 columns]"
      ]
     },
     "execution_count": 11,
     "metadata": {},
     "output_type": "execute_result"
    }
   ],
   "source": [
    "center = 'SMC3_w_Sororin'\n",
    "smc3_w_sororin = pd.read_csv(\"/groups/gerlich/experiments/Experiments_005700/005784/data/signal_peak_classification/smc3_w_sororin.bed\", \n",
    "                                sep = \"\\t\")\n",
    "\n",
    "smc3_w_sororin"
   ]
  },
  {
   "cell_type": "code",
   "execution_count": 12,
   "id": "continuing-thesaurus",
   "metadata": {},
   "outputs": [],
   "source": [
    "# generate observed over expected Hi-C pile-ups\n",
    "matricesObsExp = {}\n",
    "for rType in [\"cis\", \"trans\"]:\n",
    "    snippets = cooltools.pileup(clrs[rType], smc3_w_sororin, view_df=hg19_arms, expected_df=expClrs[rType], flank=flank)\n",
    "    matricesObsExp [rType] = snippets"
   ]
  },
  {
   "cell_type": "code",
   "execution_count": null,
   "id": "vietnamese-pierce",
   "metadata": {},
   "outputs": [
    {
     "name": "stdout",
     "output_type": "stream",
     "text": [
      "0\n",
      "5000\n"
     ]
    }
   ],
   "source": [
    "obsExp1dWT = {}\n",
    "for rType in [\"cis\", \"trans\"]:\n",
    "    tempPile = matricesObsExp[rType]\n",
    "    tempList = []\n",
    "    for boundaryIndex in range(tempPile.shape[0]):\n",
    "        if boundaryIndex % 5000 == 0:\n",
    "            print(boundaryIndex)\n",
    "        indPile = tempPile[boundaryIndex]\n",
    "        xVals, yVals = slidingDiamond(indPile, sideLen=10)\n",
    "        tempFrame = pd.DataFrame({\"xVals\": xVals, \"yVals\": yVals, \"ID\": boundaryIndex})\n",
    "        tempList.append(tempFrame)\n",
    "    obsExp1dWT[rType] = pd.concat(tempList)"
   ]
  },
  {
   "cell_type": "code",
   "execution_count": null,
   "id": "elementary-hostel",
   "metadata": {},
   "outputs": [],
   "source": [
    "wtPrepared = {}\n",
    "for rType in [\"trans\", \"cis\"]:\n",
    "    temp = obsExp1dWT[rType]\n",
    "    # expand into heatmap\n",
    "    tempExp = pd.pivot_table(temp, columns=\"xVals\", index=\"ID\", values=\"yVals\", dropna=True)\n",
    "    if rType == \"trans\":\n",
    "        # midPoint definitio\n",
    "        midPoint = int(np.median(range(len(tempExp.columns))))\n",
    "        # find center enrichment\n",
    "        tempExp.loc[:, \"CenterVal\"] = tempExp.apply(lambda x: np.nanmean(x.iloc[midPoint-5:midPoint+5]), axis=1)\n",
    "        tempExp = tempExp.sort_values(by=\"CenterVal\", ascending=False).drop(\"CenterVal\", axis=\"columns\")\n",
    "        transOrder = tempExp.index\n",
    "    else:\n",
    "        tempExp = tempExp.loc[transOrder, :]\n",
    "    tempExp = tempExp.dropna()\n",
    "    wtPrepared[rType] = tempExp"
   ]
  },
  {
   "cell_type": "code",
   "execution_count": null,
   "id": "6cf80f7c-59e2-46a5-a467-61533f890e99",
   "metadata": {},
   "outputs": [],
   "source": [
    "print (f\"Mean value: {(wtPrepared['trans'].iloc[:, 46].std() + wtPrepared['trans'].iloc[:, 45].std())/2}\"\n",
    "print (f\"St deviation: {(wtPrepared['trans'].iloc[:, 46].mean() + wtPrepared['trans'].iloc[:, 45].mean())/2}\""
   ]
  },
  {
   "cell_type": "code",
   "execution_count": null,
   "id": "sized-firewall",
   "metadata": {},
   "outputs": [],
   "source": [
    "wtPrepared[\"trans\"] = np.log2(wtPrepared[\"trans\"] + 0.01)\n",
    "wtPrepared[\"cis\"] = np.log2(wtPrepared[\"cis\"] + 0.01)"
   ]
  },
  {
   "cell_type": "code",
   "execution_count": null,
   "id": "f9cfd8de-2bec-4530-a71f-0a95fbb96b34",
   "metadata": {},
   "outputs": [],
   "source": [
    "idx = np.random.permutation(wtPrepared[\"trans\"].index)\n",
    "wtPrepared[\"trans\"] = wtPrepared[\"trans\"].reindex(idx)\n",
    "wtPrepared[\"cis\"] = wtPrepared[\"cis\"].reindex(idx)"
   ]
  },
  {
   "cell_type": "code",
   "execution_count": null,
   "id": "atmospheric-assessment",
   "metadata": {},
   "outputs": [],
   "source": [
    "fig, ax = plt.subplots(1, 2)\n",
    "im = ax[0].imshow(wtPrepared[\"cis\"], vmin=-.6, vmax=.6, aspect='auto', cmap = mpl.cm.get_cmap('RdBu_r'), rasterized=True)\n",
    "ax[1].imshow(wtPrepared[\"trans\"], vmin=-.6, vmax=.6, aspect='auto', cmap = mpl.cm.get_cmap('RdBu_r'), rasterized=True)\n",
    "\n",
    "\n",
    "ax[0].set_title(f\"Cis sister\\n at {center}\\n(WT)\", fontsize = 20)\n",
    "#fig.colorbar(im, ax=ax[0], label=\"log2 (obs/exp)\", location = 'bottom', shrink = 0.5)\n",
    "ax[1].set_title(f\"Trans sister\\n at {center}\\n(WT)\", fontsize = 20)\n",
    "#fig.colorbar(im, ax=ax[1], label=\"log2 (obs/exp)\", location = 'bottom', shrink = 0.5)\n",
    "# remove ticklabels\n",
    "for i in range(2):\n",
    "    ax[i].set_xticks([])\n",
    "    ax[i].set_yticks([])\n",
    "    ax[i].set_xticklabels([])\n",
    "    ax[i].set_yticklabels([])\n",
    "fig.set_size_inches(15, 10)\n",
    "plt.show()"
   ]
  },
  {
   "cell_type": "code",
   "execution_count": null,
   "id": "rural-invite",
   "metadata": {},
   "outputs": [],
   "source": [
    "resDir = \"/groups/gerlich/experiments/Experiments_005700/005784/results/signal_peak_classification/lineprofiles/\"\n",
    "#fig.savefig (os.path.join(resDir, f\"hic_line_profiles_wt_ObsExp_at_{center}_{resolution/1000}_window_{flank/1000}_res.png\"), bbox_inches=\"tight\", transparent = True)\n",
    "#fig.savefig (os.path.join(resDir, f\"hic_line_profiles_wt_ObsExp_at_{center}_{resolution/1000}_window_{flank/1000}_res.pdf\"), bbox_inches=\"tight\", transparent = True)"
   ]
  },
  {
   "cell_type": "code",
   "execution_count": null,
   "id": "8741a307-cc21-44d1-8efe-9983e466f6f8",
   "metadata": {},
   "outputs": [],
   "source": []
  }
 ],
 "metadata": {
  "kernelspec": {
   "display_name": "Python 3 (ipykernel)",
   "language": "python",
   "name": "python3"
  },
  "language_info": {
   "codemirror_mode": {
    "name": "ipython",
    "version": 3
   },
   "file_extension": ".py",
   "mimetype": "text/x-python",
   "name": "python",
   "nbconvert_exporter": "python",
   "pygments_lexer": "ipython3",
   "version": "3.9.9"
  }
 },
 "nbformat": 4,
 "nbformat_minor": 5
}
